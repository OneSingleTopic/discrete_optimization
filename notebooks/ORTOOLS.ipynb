{
 "cells": [
  {
   "cell_type": "markdown",
   "id": "cdf8703b",
   "metadata": {},
   "source": [
    "# Simple\n",
    "## FIrst solution\n",
    "\n",
    "Given x, y and z within [0,1,2]\n",
    "Find all solutions under the constraint $x\\neq{y}$"
   ]
  },
  {
   "cell_type": "code",
   "execution_count": 29,
   "id": "f2efac5e",
   "metadata": {},
   "outputs": [],
   "source": [
    "from ortools.sat.python import cp_model"
   ]
  },
  {
   "cell_type": "code",
   "execution_count": 30,
   "id": "0ca866a7",
   "metadata": {},
   "outputs": [],
   "source": [
    "model = cp_model.CpModel()"
   ]
  },
  {
   "cell_type": "code",
   "execution_count": 31,
   "id": "6d66097f",
   "metadata": {},
   "outputs": [],
   "source": [
    "num_vals = 3\n",
    "x = model.NewIntVar(0, num_vals-1, 'x')\n",
    "y = model.NewIntVar(0, num_vals-1, 'y')\n",
    "z = model.NewIntVar(0, num_vals-1, 'z')"
   ]
  },
  {
   "cell_type": "code",
   "execution_count": 32,
   "id": "6d2a0d0a",
   "metadata": {},
   "outputs": [
    {
     "data": {
      "text/plain": [
       "<ortools.sat.python.cp_model.Constraint at 0x7f47117584c0>"
      ]
     },
     "execution_count": 32,
     "metadata": {},
     "output_type": "execute_result"
    }
   ],
   "source": [
    "model.Add(x!=y)\n",
    "model.AddAllDifferent([x,y,z])"
   ]
  },
  {
   "cell_type": "code",
   "execution_count": 33,
   "id": "351b85f3",
   "metadata": {},
   "outputs": [],
   "source": [
    "solver = cp_model.CpSolver()\n",
    "status = solver.Solve(model)"
   ]
  },
  {
   "cell_type": "code",
   "execution_count": 34,
   "id": "9552790b",
   "metadata": {},
   "outputs": [
    {
     "name": "stdout",
     "output_type": "stream",
     "text": [
      "x = 2\n",
      "y = 1\n",
      "z = 0\n"
     ]
    }
   ],
   "source": [
    "if status in [cp_model.OPTIMAL, cp_model.FEASIBLE]:\n",
    "    print(f\"x = {solver.Value(x)}\")\n",
    "    print(f\"y = {solver.Value(y)}\")\n",
    "    print(f\"z = {solver.Value(z)}\")"
   ]
  },
  {
   "cell_type": "markdown",
   "id": "288f8855",
   "metadata": {},
   "source": [
    "## Print solutions as soon as they are coming"
   ]
  },
  {
   "cell_type": "code",
   "execution_count": 35,
   "id": "efd3525a",
   "metadata": {},
   "outputs": [],
   "source": [
    "class VarArraySolutionPrinter(cp_model.CpSolverSolutionCallback):\n",
    "    \"\"\"Print intermediate solutions.\"\"\"\n",
    "\n",
    "    def __init__(self, variables):\n",
    "        cp_model.CpSolverSolutionCallback.__init__(self)\n",
    "        self.__variables = variables\n",
    "        self.__solution_count = 0\n",
    "\n",
    "    def on_solution_callback(self):\n",
    "        self.__solution_count += 1\n",
    "        for v in self.__variables:\n",
    "            print('%s=%i' % (v, self.Value(v)), end=' ')\n",
    "        print()\n",
    "\n",
    "    def solution_count(self):\n",
    "        return self.__solution_count"
   ]
  },
  {
   "cell_type": "code",
   "execution_count": 36,
   "id": "8654c446",
   "metadata": {},
   "outputs": [
    {
     "name": "stdout",
     "output_type": "stream",
     "text": [
      "x=2 y=1 z=0 \n",
      "x=2 y=0 z=1 \n",
      "x=1 y=2 z=0 \n",
      "x=1 y=0 z=2 \n",
      "x=0 y=2 z=1 \n",
      "x=0 y=1 z=2 \n",
      "Status = OPTIMAL\n",
      "Number of solutions found: 6\n"
     ]
    }
   ],
   "source": [
    "solver = cp_model.CpSolver()\n",
    "solution_printer = VarArraySolutionPrinter([x, y, z])\n",
    "# Enumerate all solutions.\n",
    "solver.parameters.enumerate_all_solutions = True\n",
    "# Solve.\n",
    "status = solver.Solve(model, solution_printer)\n",
    "\n",
    "print('Status = %s' % solver.StatusName(status))\n",
    "print('Number of solutions found: %i' % solution_printer.solution_count())\n"
   ]
  },
  {
   "cell_type": "markdown",
   "id": "e1340380",
   "metadata": {},
   "source": [
    "# A little more complex\n",
    "\n",
    "Maximize $2x+2y+3z$, with x, y and z integers, given \n",
    "\n",
    "$x+\\frac{7}{2}y+\\frac{3}{2}z \\leq 25$\n",
    "\n",
    "$3x-5y+7z \\leq 45$\n",
    "\n",
    "$5x+2y-6z \\leq 37$\n",
    "\n",
    "$x,y,z \\geq 0$"
   ]
  },
  {
   "cell_type": "code",
   "execution_count": 19,
   "id": "878afbb4",
   "metadata": {},
   "outputs": [],
   "source": [
    "model = cp_model.CpModel()\n",
    "var_upper_bound = max(50, 45, 37)\n",
    "x = model.NewIntVar(0, var_upper_bound, 'x')\n",
    "y = model.NewIntVar(0, var_upper_bound, 'y')\n",
    "z = model.NewIntVar(0, var_upper_bound, 'z')"
   ]
  },
  {
   "cell_type": "code",
   "execution_count": 20,
   "id": "171067eb",
   "metadata": {},
   "outputs": [
    {
     "data": {
      "text/plain": [
       "<ortools.sat.python.cp_model.Constraint at 0x7f4713f4bc70>"
      ]
     },
     "execution_count": 20,
     "metadata": {},
     "output_type": "execute_result"
    }
   ],
   "source": [
    "model.Add(2 * x + 7 * y + 3 * z <= 50)\n",
    "model.Add(3 * x - 5 * y + 7 * z <= 45)\n",
    "model.Add(5 * x + 2 * y - 6 * z <= 37)"
   ]
  },
  {
   "cell_type": "code",
   "execution_count": 21,
   "id": "0deeeded",
   "metadata": {},
   "outputs": [],
   "source": [
    "model.Maximize(2 * x + 2 * y + 3 * z)"
   ]
  },
  {
   "cell_type": "code",
   "execution_count": 25,
   "id": "ad69ecf3",
   "metadata": {},
   "outputs": [
    {
     "name": "stdout",
     "output_type": "stream",
     "text": [
      "Maximum of objective function: 35.0\n",
      "\n",
      "x = 7\n",
      "y = 3\n",
      "z = 5\n",
      "Status = OPTIMAL\n",
      "Number of solutions found: 18\n"
     ]
    }
   ],
   "source": [
    "solver = cp_model.CpSolver()\n",
    "status = solver.Solve(model)\n",
    "\n",
    "if status == cp_model.OPTIMAL or status == cp_model.FEASIBLE:\n",
    "    print(f'Maximum of objective function: {solver.ObjectiveValue()}\\n')\n",
    "    print(f'x = {solver.Value(x)}')\n",
    "    print(f'y = {solver.Value(y)}')\n",
    "    print(f'z = {solver.Value(z)}')\n",
    "    print('Status = %s' % solver.StatusName(status))\n",
    "    print('Number of solutions found: %i' % solution_printer.solution_count())\n",
    "\n",
    "else:\n",
    "    print('No solution found.')"
   ]
  },
  {
   "cell_type": "code",
   "execution_count": null,
   "id": "939241d4",
   "metadata": {},
   "outputs": [],
   "source": []
  }
 ],
 "metadata": {
  "kernelspec": {
   "display_name": "Python 3 (ipykernel)",
   "language": "python",
   "name": "python3"
  },
  "language_info": {
   "codemirror_mode": {
    "name": "ipython",
    "version": 3
   },
   "file_extension": ".py",
   "mimetype": "text/x-python",
   "name": "python",
   "nbconvert_exporter": "python",
   "pygments_lexer": "ipython3",
   "version": "3.8.10"
  }
 },
 "nbformat": 4,
 "nbformat_minor": 5
}
