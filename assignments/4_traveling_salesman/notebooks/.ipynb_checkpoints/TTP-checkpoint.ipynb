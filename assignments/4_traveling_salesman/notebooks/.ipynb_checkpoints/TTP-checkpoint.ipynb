{
 "cells": [
  {
   "cell_type": "code",
   "execution_count": 15,
   "id": "9f683b28",
   "metadata": {},
   "outputs": [],
   "source": [
    "from ttp_solvers.data import read_data\n",
    "from ttp_solvers.solvers as solvers "
   ]
  },
  {
   "cell_type": "code",
   "execution_count": 9,
   "id": "a6213b50",
   "metadata": {},
   "outputs": [],
   "source": [
    "DATA_PATH = \"../data/tsp_100_1\""
   ]
  },
  {
   "cell_type": "code",
   "execution_count": 13,
   "id": "9cf735c2",
   "metadata": {},
   "outputs": [],
   "source": [
    "points = None\n",
    "with open(DATA_PATH, \"r\") as input_data_file:\n",
    "    input_data = input_data_file.read()\n",
    "    points = data.read_data(input_data)"
   ]
  },
  {
   "cell_type": "code",
   "execution_count": 14,
   "id": "7acd90a3",
   "metadata": {},
   "outputs": [
    {
     "data": {
      "text/plain": [
       "[Point(x=2482.0, y=1183.0),\n",
       " Point(x=3854.0, y=923.0),\n",
       " Point(x=376.0, y=825.0),\n",
       " Point(x=2519.0, y=135.0),\n",
       " Point(x=2945.0, y=1622.0),\n",
       " Point(x=953.0, y=268.0),\n",
       " Point(x=2628.0, y=1479.0),\n",
       " Point(x=2097.0, y=981.0),\n",
       " Point(x=890.0, y=1846.0),\n",
       " Point(x=2139.0, y=1806.0),\n",
       " Point(x=2421.0, y=1007.0),\n",
       " Point(x=2290.0, y=1810.0),\n",
       " Point(x=1115.0, y=1052.0),\n",
       " Point(x=2588.0, y=302.0),\n",
       " Point(x=327.0, y=265.0),\n",
       " Point(x=241.0, y=341.0),\n",
       " Point(x=1917.0, y=687.0),\n",
       " Point(x=2991.0, y=792.0),\n",
       " Point(x=2573.0, y=599.0),\n",
       " Point(x=19.0, y=674.0),\n",
       " Point(x=3911.0, y=1673.0),\n",
       " Point(x=872.0, y=1559.0),\n",
       " Point(x=2863.0, y=558.0),\n",
       " Point(x=929.0, y=1766.0),\n",
       " Point(x=839.0, y=620.0),\n",
       " Point(x=3893.0, y=102.0),\n",
       " Point(x=2178.0, y=1619.0),\n",
       " Point(x=3822.0, y=899.0),\n",
       " Point(x=378.0, y=1048.0),\n",
       " Point(x=1178.0, y=100.0),\n",
       " Point(x=2599.0, y=901.0),\n",
       " Point(x=3416.0, y=143.0),\n",
       " Point(x=2961.0, y=1605.0),\n",
       " Point(x=611.0, y=1384.0),\n",
       " Point(x=3113.0, y=885.0),\n",
       " Point(x=2597.0, y=1830.0),\n",
       " Point(x=2586.0, y=1286.0),\n",
       " Point(x=161.0, y=906.0),\n",
       " Point(x=1429.0, y=134.0),\n",
       " Point(x=742.0, y=1025.0),\n",
       " Point(x=1625.0, y=1651.0),\n",
       " Point(x=1187.0, y=706.0),\n",
       " Point(x=1787.0, y=1009.0),\n",
       " Point(x=22.0, y=987.0),\n",
       " Point(x=3640.0, y=43.0),\n",
       " Point(x=3756.0, y=882.0),\n",
       " Point(x=776.0, y=392.0),\n",
       " Point(x=1724.0, y=1642.0),\n",
       " Point(x=198.0, y=1810.0),\n",
       " Point(x=3950.0, y=1558.0),\n",
       " Point(x=1380.0, y=939.0),\n",
       " Point(x=2848.0, y=96.0),\n",
       " Point(x=3510.0, y=1671.0),\n",
       " Point(x=457.0, y=334.0),\n",
       " Point(x=3888.0, y=666.0),\n",
       " Point(x=984.0, y=965.0),\n",
       " Point(x=2721.0, y=1482.0),\n",
       " Point(x=1286.0, y=525.0),\n",
       " Point(x=2716.0, y=1432.0),\n",
       " Point(x=738.0, y=1325.0),\n",
       " Point(x=1251.0, y=1832.0),\n",
       " Point(x=2728.0, y=1698.0),\n",
       " Point(x=3815.0, y=169.0),\n",
       " Point(x=3683.0, y=1533.0),\n",
       " Point(x=1247.0, y=1945.0),\n",
       " Point(x=123.0, y=862.0),\n",
       " Point(x=1234.0, y=1946.0),\n",
       " Point(x=252.0, y=1240.0),\n",
       " Point(x=611.0, y=673.0),\n",
       " Point(x=2576.0, y=1676.0),\n",
       " Point(x=928.0, y=1700.0),\n",
       " Point(x=53.0, y=857.0),\n",
       " Point(x=1807.0, y=1711.0),\n",
       " Point(x=274.0, y=1420.0),\n",
       " Point(x=2574.0, y=946.0),\n",
       " Point(x=178.0, y=24.0),\n",
       " Point(x=2678.0, y=1825.0),\n",
       " Point(x=1795.0, y=962.0),\n",
       " Point(x=3384.0, y=1498.0),\n",
       " Point(x=3520.0, y=1079.0),\n",
       " Point(x=1256.0, y=61.0),\n",
       " Point(x=1424.0, y=1728.0),\n",
       " Point(x=3913.0, y=192.0),\n",
       " Point(x=3085.0, y=1528.0),\n",
       " Point(x=2573.0, y=1969.0),\n",
       " Point(x=463.0, y=1670.0),\n",
       " Point(x=3875.0, y=598.0),\n",
       " Point(x=298.0, y=1513.0),\n",
       " Point(x=3479.0, y=821.0),\n",
       " Point(x=2542.0, y=236.0),\n",
       " Point(x=3955.0, y=1743.0),\n",
       " Point(x=1323.0, y=280.0),\n",
       " Point(x=3447.0, y=1830.0),\n",
       " Point(x=2936.0, y=337.0),\n",
       " Point(x=1621.0, y=1830.0),\n",
       " Point(x=3373.0, y=1646.0),\n",
       " Point(x=1393.0, y=1368.0),\n",
       " Point(x=3874.0, y=1318.0),\n",
       " Point(x=938.0, y=955.0),\n",
       " Point(x=3022.0, y=474.0)]"
      ]
     },
     "execution_count": 14,
     "metadata": {},
     "output_type": "execute_result"
    }
   ],
   "source": []
  },
  {
   "cell_type": "code",
   "execution_count": null,
   "id": "f0ea67f4",
   "metadata": {},
   "outputs": [],
   "source": []
  }
 ],
 "metadata": {
  "kernelspec": {
   "display_name": "Python 3 (ipykernel)",
   "language": "python",
   "name": "python3"
  },
  "language_info": {
   "codemirror_mode": {
    "name": "ipython",
    "version": 3
   },
   "file_extension": ".py",
   "mimetype": "text/x-python",
   "name": "python",
   "nbconvert_exporter": "python",
   "pygments_lexer": "ipython3",
   "version": "3.8.10"
  }
 },
 "nbformat": 4,
 "nbformat_minor": 5
}
